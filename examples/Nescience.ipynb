{
 "cells": [
  {
   "cell_type": "markdown",
   "source": [
    "# Evaluation of the Nescience class"
   ],
   "metadata": {}
  },
  {
   "cell_type": "code",
   "execution_count": 2,
   "source": [
    "import numpy as np\r\n",
    "\r\n",
    "from nescience.nescience  import Nescience\r\n",
    "from nescience.miscoding  import Miscoding\r\n",
    "from nescience.inaccuracy import Inaccuracy\r\n",
    "from nescience.surfeit    import Surfeit\r\n",
    "\r\n",
    "from sklearn.tree import DecisionTreeClassifier\r\n",
    "from sklearn.neural_network import MLPClassifier\r\n",
    "\r\n",
    "from sklearn.datasets import load_breast_cancer\r\n",
    "from sklearn.datasets import load_digits\r\n",
    "\r\n",
    "from sklearn.model_selection import train_test_split\r\n",
    "from sklearn.model_selection import cross_val_score\r\n",
    "\r\n",
    "import matplotlib.pyplot as plt\r\n",
    "from matplotlib.pylab import rcParams"
   ],
   "outputs": [],
   "metadata": {}
  },
  {
   "cell_type": "code",
   "execution_count": 3,
   "source": [
    "rcParams['figure.figsize'] = 10, 10"
   ],
   "outputs": [],
   "metadata": {}
  },
  {
   "cell_type": "markdown",
   "source": [
    "#### Nescience of a decision tree classifier"
   ],
   "metadata": {}
  },
  {
   "cell_type": "code",
   "execution_count": 4,
   "source": [
    "data = load_digits()\r\n",
    "X = data.data\r\n",
    "y = data.target"
   ],
   "outputs": [],
   "metadata": {}
  },
  {
   "cell_type": "code",
   "execution_count": 5,
   "source": [
    "tree = DecisionTreeClassifier()\r\n",
    "tree.fit(X, y)\r\n",
    "tree.score(X, y)"
   ],
   "outputs": [
    {
     "output_type": "execute_result",
     "data": {
      "text/plain": [
       "1.0"
      ]
     },
     "metadata": {},
     "execution_count": 5
    }
   ],
   "metadata": {}
  },
  {
   "cell_type": "code",
   "execution_count": 6,
   "source": [
    "nescience = Nescience()\r\n",
    "nescience.fit(X, y)"
   ],
   "outputs": [
    {
     "output_type": "execute_result",
     "data": {
      "text/plain": [
       "Nescience()"
      ]
     },
     "metadata": {},
     "execution_count": 6
    }
   ],
   "metadata": {}
  },
  {
   "cell_type": "code",
   "execution_count": 7,
   "source": [
    "nescience.nescience(tree)"
   ],
   "outputs": [
    {
     "output_type": "execute_result",
     "data": {
      "text/plain": [
       "2.9999042921273993e-05"
      ]
     },
     "metadata": {},
     "execution_count": 7
    }
   ],
   "metadata": {}
  },
  {
   "cell_type": "markdown",
   "source": [
    "#### Comparison"
   ],
   "metadata": {}
  },
  {
   "cell_type": "code",
   "execution_count": 8,
   "source": [
    "data = load_breast_cancer()\r\n",
    "X = data.data\r\n",
    "y = data.target"
   ],
   "outputs": [],
   "metadata": {}
  },
  {
   "cell_type": "code",
   "execution_count": 9,
   "source": [
    "tree = DecisionTreeClassifier(max_depth=3)\r\n",
    "tree.fit(X, y)\r\n",
    "tree.score(X, y)"
   ],
   "outputs": [
    {
     "output_type": "execute_result",
     "data": {
      "text/plain": [
       "0.9789103690685413"
      ]
     },
     "metadata": {},
     "execution_count": 9
    }
   ],
   "metadata": {}
  },
  {
   "cell_type": "code",
   "execution_count": 10,
   "source": [
    "nescience = Nescience()\r\n",
    "nescience.fit(X, y)\r\n",
    "nescience.nescience(tree)"
   ],
   "outputs": [
    {
     "output_type": "execute_result",
     "data": {
      "text/plain": [
       "0.3129617847449922"
      ]
     },
     "metadata": {},
     "execution_count": 10
    }
   ],
   "metadata": {}
  },
  {
   "cell_type": "code",
   "execution_count": 11,
   "source": [
    "nn = MLPClassifier()\r\n",
    "nn.fit(X, y)\r\n",
    "nn.score(X, y)"
   ],
   "outputs": [
    {
     "output_type": "execute_result",
     "data": {
      "text/plain": [
       "0.9420035149384886"
      ]
     },
     "metadata": {},
     "execution_count": 11
    }
   ],
   "metadata": {}
  },
  {
   "cell_type": "code",
   "execution_count": 12,
   "source": [
    "nescience.nescience(nn)"
   ],
   "outputs": [
    {
     "output_type": "execute_result",
     "data": {
      "text/plain": [
       "0.5169670509180907"
      ]
     },
     "metadata": {},
     "execution_count": 12
    }
   ],
   "metadata": {}
  },
  {
   "cell_type": "markdown",
   "source": [
    "#### Evolution of Nescience"
   ],
   "metadata": {}
  },
  {
   "cell_type": "code",
   "execution_count": 13,
   "source": [
    "data = load_breast_cancer()\r\n",
    "# data = load_digits()\r\n",
    "X = data.data\r\n",
    "y = data.target"
   ],
   "outputs": [],
   "metadata": {}
  },
  {
   "cell_type": "code",
   "execution_count": 14,
   "source": [
    "lmiscoding  = list()\r\n",
    "linaccuracy = list()\r\n",
    "lredudancy  = list()\r\n",
    "lnescience  = list()\r\n",
    "lcrossval   = list()\r\n",
    "\r\n",
    "miscoding = Miscoding()\r\n",
    "miscoding.fit(X, y)\r\n",
    "\r\n",
    "inaccuracy = Inaccuracy()\r\n",
    "inaccuracy.fit(X, y)\r\n",
    "\r\n",
    "surfeit = Surfeit()\r\n",
    "surfeit.fit(X, y)\r\n",
    "\r\n",
    "nescience = Nescience()\r\n",
    "# nescience.fit(X, y, method=\"Harmonic\")\r\n",
    "nescience.fit(X, y)\r\n",
    "\r\n",
    "for i in range(1, 20):\r\n",
    "    \r\n",
    "    tree = DecisionTreeClassifier(max_depth=i)\r\n",
    "    tree.fit(X, y)\r\n",
    "    \r\n",
    "    lmiscoding.append(miscoding.miscoding_model(tree))\r\n",
    "    linaccuracy.append(inaccuracy.inaccuracy_model(tree))\r\n",
    "    lredudancy.append(surfeit.surfeit_model(tree))\r\n",
    "    lnescience.append(nescience.nescience(tree))\r\n",
    "\r\n",
    "    scores = cross_val_score(tree, X, y, cv=30)\r\n",
    "    lcrossval.append(1 - scores.mean())"
   ],
   "outputs": [],
   "metadata": {}
  },
  {
   "cell_type": "code",
   "execution_count": 15,
   "source": [
    "fig, axs = plt.subplots(5, gridspec_kw={'hspace': 0.4, 'wspace': 0})\r\n",
    "\r\n",
    "axs[0].plot(range(1, 20), lmiscoding)\r\n",
    "axs[0].set_title('Miscoding')\r\n",
    "axs[0].set_xticks(range(1, 20))\r\n",
    "axs[0].set_xticklabels(range(1, 20))\r\n",
    "\r\n",
    "axs[1].plot(range(1, 20), linaccuracy)\r\n",
    "axs[1].set_title('Inaccuracy')\r\n",
    "axs[1].set_xticks(range(1, 20))\r\n",
    "axs[1].set_xticklabels(range(1, 20))\r\n",
    "\r\n",
    "axs[2].plot(range(1, 20), lredudancy)\r\n",
    "axs[2].set_title('Redudancy')\r\n",
    "axs[2].set_xticks(range(1, 20))\r\n",
    "axs[2].set_xticklabels(range(1, 20))\r\n",
    "\r\n",
    "axs[3].plot(range(1, 20), lnescience)\r\n",
    "axs[3].set_title('Nescience')\r\n",
    "axs[3].set_xticks(range(1, 20))\r\n",
    "axs[3].set_xticklabels(range(1, 20))\r\n",
    "\r\n",
    "axs[4].plot(range(1, 20), lcrossval)\r\n",
    "axs[4].set_title('Cross Validation')\r\n",
    "axs[4].set_xticks(range(1, 20))\r\n",
    "axs[4].set_xticklabels(range(1, 20))\r\n",
    "\r\n",
    "plt.show()"
   ],
   "outputs": [
    {
     "output_type": "display_data",
     "data": {
      "text/plain": [
       "<Figure size 720x720 with 5 Axes>"
      ],
      "image/png": "[encoded data removed]"
     },
     "metadata": {
      "needs_background": "light"
     }
    }
   ],
   "metadata": {}
  },
  {
   "cell_type": "code",
   "execution_count": 16,
   "source": [
    "fig, axs = plt.subplots(2, gridspec_kw={'hspace': 0.4, 'wspace': 0})\r\n",
    "\r\n",
    "axs[0].plot(range(1, 20), lnescience)\r\n",
    "axs[0].set_title('Nescience')\r\n",
    "axs[0].set_xticks(range(1, 20))\r\n",
    "axs[0].set_xticklabels(range(1, 20))\r\n",
    "\r\n",
    "axs[1].plot(range(1, 20), lcrossval)\r\n",
    "axs[1].set_title('Cross Validation')\r\n",
    "axs[1].set_xticks(range(1, 20))\r\n",
    "axs[1].set_xticklabels(range(1, 20))\r\n",
    "\r\n",
    "plt.show()"
   ],
   "outputs": [
    {
     "output_type": "display_data",
     "data": {
      "text/plain": [
       "<Figure size 720x720 with 2 Axes>"
      ],
      "image/png": "[encoded data removed]"
     },
     "metadata": {
      "needs_background": "light"
     }
    }
   ],
   "metadata": {}
  },
  {
   "cell_type": "code",
   "execution_count": 17,
   "source": [
    "np.where(lnescience == np.min(lnescience))"
   ],
   "outputs": [
    {
     "output_type": "execute_result",
     "data": {
      "text/plain": [
       "(array([14], dtype=int64),)"
      ]
     },
     "metadata": {},
     "execution_count": 17
    }
   ],
   "metadata": {}
  },
  {
   "cell_type": "code",
   "execution_count": 18,
   "source": [
    "np.where(lcrossval == np.min(lcrossval))"
   ],
   "outputs": [
    {
     "output_type": "execute_result",
     "data": {
      "text/plain": [
       "(array([5], dtype=int64),)"
      ]
     },
     "metadata": {},
     "execution_count": 18
    }
   ],
   "metadata": {}
  },
  {
   "cell_type": "markdown",
   "source": [
    "### Hyperparameters Selection"
   ],
   "metadata": {}
  },
  {
   "cell_type": "code",
   "execution_count": 19,
   "source": [
    "import numpy as np\r\n",
    "\r\n",
    "from sklearn.model_selection import GridSearchCV\r\n",
    "from sklearn.model_selection import train_test_split\r\n",
    "from sklearn.metrics import classification_report\r\n",
    "from sklearn.datasets import load_digits"
   ],
   "outputs": [],
   "metadata": {}
  },
  {
   "cell_type": "markdown",
   "source": [
    "Implement an scoring object based on the Nescience class"
   ],
   "metadata": {}
  },
  {
   "cell_type": "code",
   "execution_count": 20,
   "source": [
    "from nescience.nescience import Nescience\r\n",
    "\r\n",
    "def my_custom_loss_func(estimator, X, y):\r\n",
    "    \r\n",
    "    nsc = Nescience()\r\n",
    "    nsc.fit(X, y)\r\n",
    "    nescience = nsc.nescience(estimator)\r\n",
    "    \r\n",
    "    # scikit-learn expect that higher numbers are better\r\n",
    "    score = -nescience\r\n",
    "    \r\n",
    "    return score"
   ],
   "outputs": [],
   "metadata": {}
  },
  {
   "cell_type": "markdown",
   "source": [
    "Load dataset"
   ],
   "metadata": {}
  },
  {
   "cell_type": "code",
   "execution_count": 21,
   "source": [
    "data = load_digits()"
   ],
   "outputs": [],
   "metadata": {}
  },
  {
   "cell_type": "code",
   "execution_count": 22,
   "source": [
    "X_train, X_test, y_train, y_test = train_test_split(data.data, data.target, test_size=0.3, random_state=0)"
   ],
   "outputs": [],
   "metadata": {}
  },
  {
   "cell_type": "markdown",
   "source": [
    "Multilayer Perceptron"
   ],
   "metadata": {}
  },
  {
   "cell_type": "code",
   "execution_count": 23,
   "source": [
    "from sklearn.neural_network import MLPClassifier"
   ],
   "outputs": [],
   "metadata": {}
  },
  {
   "cell_type": "code",
   "execution_count": 24,
   "source": [
    "parameters = {'solver': ['lbfgs'],\r\n",
    "              'max_iter': [1000, 1500, 2000 ], \r\n",
    "              'alpha': 10.0 ** -np.arange(1, 10, 3),\r\n",
    "              'hidden_layer_sizes':[(60,), (100,), (60, 60,), (100, 100,), (60, 60, 60,), (100, 100, 100,)]}"
   ],
   "outputs": [],
   "metadata": {}
  },
  {
   "cell_type": "markdown",
   "source": [
    "'score' based search"
   ],
   "metadata": {}
  },
  {
   "cell_type": "code",
   "execution_count": 26,
   "source": [
    "clf_std = GridSearchCV(estimator=MLPClassifier(), param_grid=parameters, cv=3, n_jobs=-1)"
   ],
   "outputs": [],
   "metadata": {}
  },
  {
   "cell_type": "code",
   "execution_count": 27,
   "source": [
    "clf_std.fit(X_train, y_train)"
   ],
   "outputs": [
    {
     "output_type": "execute_result",
     "data": {
      "text/plain": [
       "GridSearchCV(cv=3, estimator=MLPClassifier(), n_jobs=-1,\n",
       "             param_grid={'alpha': array([1.e-01, 1.e-04, 1.e-07]),\n",
       "                         'hidden_layer_sizes': [(60,), (100,), (60, 60),\n",
       "                                                (100, 100), (60, 60, 60),\n",
       "                                                (100, 100, 100)],\n",
       "                         'max_iter': [1000, 1500, 2000], 'solver': ['lbfgs']})"
      ]
     },
     "metadata": {},
     "execution_count": 27
    }
   ],
   "metadata": {}
  },
  {
   "cell_type": "code",
   "execution_count": 28,
   "source": [
    "clf_std.best_params_"
   ],
   "outputs": [
    {
     "output_type": "execute_result",
     "data": {
      "text/plain": [
       "{'alpha': 0.1,\n",
       " 'hidden_layer_sizes': (100,),\n",
       " 'max_iter': 1000,\n",
       " 'solver': 'lbfgs'}"
      ]
     },
     "metadata": {},
     "execution_count": 28
    }
   ],
   "metadata": {}
  },
  {
   "cell_type": "code",
   "execution_count": 29,
   "source": [
    "y_true, y_pred = y_test, clf_std.predict(X_test)\r\n",
    "print(classification_report(y_true, y_pred))"
   ],
   "outputs": [
    {
     "output_type": "stream",
     "name": "stdout",
     "text": [
      "              precision    recall  f1-score   support\n",
      "\n",
      "           0       1.00      1.00      1.00        45\n",
      "           1       0.89      0.98      0.94        52\n",
      "           2       1.00      0.98      0.99        53\n",
      "           3       1.00      0.98      0.99        54\n",
      "           4       0.98      1.00      0.99        48\n",
      "           5       0.98      0.98      0.98        57\n",
      "           6       1.00      0.98      0.99        60\n",
      "           7       1.00      0.96      0.98        53\n",
      "           8       0.97      0.95      0.96        61\n",
      "           9       0.98      0.98      0.98        57\n",
      "\n",
      "    accuracy                           0.98       540\n",
      "   macro avg       0.98      0.98      0.98       540\n",
      "weighted avg       0.98      0.98      0.98       540\n",
      "\n"
     ]
    }
   ],
   "metadata": {}
  },
  {
   "cell_type": "markdown",
   "source": [
    "'nescience' based search"
   ],
   "metadata": {}
  },
  {
   "cell_type": "code",
   "execution_count": 30,
   "source": [
    "import time"
   ],
   "outputs": [],
   "metadata": {}
  },
  {
   "cell_type": "code",
   "execution_count": 29,
   "source": [
    "clf_nsc = GridSearchCV(estimator=MLPClassifier(), param_grid=parameters, cv=3, scoring=my_custom_loss_func, iid=True)"
   ],
   "outputs": [],
   "metadata": {}
  },
  {
   "cell_type": "code",
   "execution_count": 30,
   "source": [
    "start = time.time()\r\n",
    "clf_nsc.fit(X_train, y_train)\r\n",
    "stop = time.time()"
   ],
   "outputs": [
    {
     "output_type": "stream",
     "name": "stderr",
     "text": [
      "/home/rleiva/anaconda3/envs/sklearn/lib/python3.8/site-packages/sklearn/model_selection/_search.py:821: FutureWarning: The parameter 'iid' is deprecated in 0.22 and will be removed in 0.24.\n",
      "  warnings.warn(\n"
     ]
    }
   ],
   "metadata": {}
  },
  {
   "cell_type": "code",
   "execution_count": 31,
   "source": [
    "stop - start"
   ],
   "outputs": [
    {
     "output_type": "execute_result",
     "data": {
      "text/plain": [
       "384.6172411441803"
      ]
     },
     "metadata": {},
     "execution_count": 31
    }
   ],
   "metadata": {}
  },
  {
   "cell_type": "code",
   "execution_count": 32,
   "source": [
    "clf_nsc.best_params_"
   ],
   "outputs": [
    {
     "output_type": "execute_result",
     "data": {
      "text/plain": [
       "{'alpha': 0.1,\n",
       " 'hidden_layer_sizes': (60,),\n",
       " 'max_iter': 1500,\n",
       " 'solver': 'lbfgs'}"
      ]
     },
     "metadata": {},
     "execution_count": 32
    }
   ],
   "metadata": {}
  },
  {
   "cell_type": "code",
   "execution_count": 33,
   "source": [
    "y_true, y_pred = y_test, clf_nsc.predict(X_test)\r\n",
    "print(classification_report(y_true, y_pred))"
   ],
   "outputs": [
    {
     "output_type": "stream",
     "name": "stdout",
     "text": [
      "              precision    recall  f1-score   support\n",
      "\n",
      "           0       0.98      1.00      0.99        45\n",
      "           1       0.88      1.00      0.94        52\n",
      "           2       1.00      0.96      0.98        53\n",
      "           3       0.98      0.96      0.97        54\n",
      "           4       1.00      0.98      0.99        48\n",
      "           5       0.98      0.96      0.97        57\n",
      "           6       1.00      0.98      0.99        60\n",
      "           7       0.98      0.96      0.97        53\n",
      "           8       0.96      0.89      0.92        61\n",
      "           9       0.90      0.96      0.93        57\n",
      "\n",
      "    accuracy                           0.96       540\n",
      "   macro avg       0.97      0.97      0.97       540\n",
      "weighted avg       0.97      0.96      0.96       540\n",
      "\n"
     ]
    }
   ],
   "metadata": {}
  }
 ],
 "metadata": {
  "kernelspec": {
   "display_name": "Python 3",
   "language": "python",
   "name": "python3"
  },
  "language_info": {
   "codemirror_mode": {
    "name": "ipython",
    "version": 3
   },
   "file_extension": ".py",
   "mimetype": "text/x-python",
   "name": "python",
   "nbconvert_exporter": "python",
   "pygments_lexer": "ipython3",
   "version": "3.8.1"
  }
 },
 "nbformat": 4,
 "nbformat_minor": 4
}